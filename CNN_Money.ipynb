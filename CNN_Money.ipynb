{
  "cells": [
    {
      "cell_type": "markdown",
      "metadata": {
        "id": "view-in-github",
        "colab_type": "text"
      },
      "source": [
        "<a href=\"https://colab.research.google.com/github/ChauVietBao/trial/blob/main/CNN_Money.ipynb\" target=\"_parent\"><img src=\"https://colab.research.google.com/assets/colab-badge.svg\" alt=\"Open In Colab\"/></a>"
      ]
    },
    {
      "cell_type": "code",
      "execution_count": null,
      "metadata": {
        "id": "mBKcPVI14VFU"
      },
      "outputs": [],
      "source": [
        "from tensorflow.keras.optimizers import SGD\n",
        "from tensorflow.keras.utils import to_categorical\n",
        "from keras.preprocessing.image import load_img,img_to_array\n",
        "import matplotlib.pyplot as plt\n",
        "import numpy as np\n",
        "import os\n",
        "from keras.layers.convolutional import Conv2D,MaxPooling2D\n",
        "from keras.models import Sequential,load_model\n",
        "from keras.layers import Dense, Dropout, Flatten"
      ]
    },
    {
      "cell_type": "code",
      "execution_count": null,
      "metadata": {
        "id": "1Hhh1t5bX_hO"
      },
      "outputs": [],
      "source": [
        "dir_path = '/content/drive/MyDrive/Colab_Notebooks/Data_tienVN'\n",
        "path_img = []\n",
        "labels = ['1000','2000','5000','10000','20000','50000','100000']\n",
        "x_train = []\n",
        "y_train = []"
      ]
    },
    {
      "cell_type": "code",
      "execution_count": null,
      "metadata": {
        "id": "_RQ2heK7xn8I"
      },
      "outputs": [],
      "source": [
        "for i in labels:\n",
        "  path_class = os.path.join(dir_path,i)\n",
        "  index_label = labels.index(i)\n",
        "  for j in os.listdir(path_class):\n",
        "    path_img = os.path.join(path_class,j)\n",
        "    img = load_img(path_img,target_size=(32,64))\n",
        "    img = img_to_array(img)\n",
        "    img = img.astype('float32')\n",
        "    img = img/255\n",
        "    x_train.append(img)\n",
        "    y_train.append(index_label)"
      ]
    },
    {
      "cell_type": "code",
      "execution_count": null,
      "metadata": {
        "id": "aOCYb2PDbWg6"
      },
      "outputs": [],
      "source": [
        "x_train = np.array(x_train)\n",
        "y_train = np.array(y_train)\n",
        "y_train = to_categorical(y_train)"
      ]
    },
    {
      "cell_type": "code",
      "execution_count": null,
      "metadata": {
        "colab": {
          "base_uri": "https://localhost:8080/"
        },
        "id": "zmV4o0vtAX-g",
        "outputId": "c7463050-500b-4705-f1ae-4ca08b980ec1"
      },
      "outputs": [
        {
          "output_type": "stream",
          "name": "stdout",
          "text": [
            "Drive already mounted at /content/drive; to attempt to forcibly remount, call drive.mount(\"/content/drive\", force_remount=True).\n"
          ]
        }
      ],
      "source": [
        "from google.colab import drive\n",
        "drive.mount('/content/drive')"
      ]
    },
    {
      "cell_type": "code",
      "execution_count": null,
      "metadata": {
        "id": "QJdfAU0-t4jj"
      },
      "outputs": [],
      "source": [
        "# Initialize the CNN\n",
        "model = Sequential()\n",
        "# Convolution\n",
        "model.add(Conv2D(32,(3,3),activation='relu',kernel_initializer='he_uniform',padding='same',input_shape=(32,64,3)))\n",
        "# A second convolution layer\n",
        "model.add(Conv2D(32,(3,3),activation='relu',kernel_initializer='he_uniform',padding='same'))\n",
        "# Pooling\n",
        "model.add(MaxPooling2D((2,2)))\n",
        "# Flattening\n",
        "model.add(Flatten())\n",
        "# Full connection\n",
        "model.add(Flatten())\n",
        "model.add(Dense(1024,activation = 'relu',kernel_initializer='he_uniform'))\n",
        "model.add(Dense(256,activation = 'relu',kernel_initializer='he_uniform'))\n",
        "model.add(Dense(7,activation = 'softmax'))\n"
      ]
    },
    {
      "cell_type": "code",
      "execution_count": null,
      "metadata": {
        "id": "bwlXzQN6vbHv",
        "colab": {
          "base_uri": "https://localhost:8080/"
        },
        "outputId": "40085f81-dd12-4711-9e11-babc6d56c1e7"
      },
      "outputs": [
        {
          "output_type": "stream",
          "name": "stdout",
          "text": [
            "Epoch 1/15\n",
            "1/1 [==============================] - 1s 1s/step - loss: 2.8409 - accuracy: 0.1395\n",
            "Epoch 2/15\n",
            "1/1 [==============================] - 0s 358ms/step - loss: 12.8253 - accuracy: 0.1395\n",
            "Epoch 3/15\n",
            "1/1 [==============================] - 0s 372ms/step - loss: 19.8883 - accuracy: 0.1860\n",
            "Epoch 4/15\n",
            "1/1 [==============================] - 0s 357ms/step - loss: 2.2384 - accuracy: 0.1860\n",
            "Epoch 5/15\n",
            "1/1 [==============================] - 0s 356ms/step - loss: 2.1371 - accuracy: 0.1628\n",
            "Epoch 6/15\n",
            "1/1 [==============================] - 0s 345ms/step - loss: 2.0630 - accuracy: 0.1628\n",
            "Epoch 7/15\n",
            "1/1 [==============================] - 0s 356ms/step - loss: 2.0461 - accuracy: 0.1395\n",
            "Epoch 8/15\n",
            "1/1 [==============================] - 0s 337ms/step - loss: 2.0499 - accuracy: 0.1628\n",
            "Epoch 9/15\n",
            "1/1 [==============================] - 0s 340ms/step - loss: 2.0162 - accuracy: 0.1628\n",
            "Epoch 10/15\n",
            "1/1 [==============================] - 0s 347ms/step - loss: 1.9746 - accuracy: 0.1628\n",
            "Epoch 11/15\n",
            "1/1 [==============================] - 0s 331ms/step - loss: 1.9578 - accuracy: 0.1395\n",
            "Epoch 12/15\n",
            "1/1 [==============================] - 0s 342ms/step - loss: 1.9488 - accuracy: 0.1395\n",
            "Epoch 13/15\n",
            "1/1 [==============================] - 0s 346ms/step - loss: 1.9449 - accuracy: 0.1860\n",
            "Epoch 14/15\n",
            "1/1 [==============================] - 0s 335ms/step - loss: 1.9428 - accuracy: 0.1628\n",
            "Epoch 15/15\n",
            "1/1 [==============================] - 0s 337ms/step - loss: 1.9412 - accuracy: 0.2093\n"
          ]
        }
      ],
      "source": [
        "opt = SGD(learning_rate=0.01,momentum=0.9)\n",
        "model.compile(opt,loss='categorical_crossentropy',metrics=['accuracy'])\n",
        "history = model.fit(x_train,y_train,epochs=15,batch_size=128,verbose=1)"
      ]
    },
    {
      "cell_type": "code",
      "execution_count": null,
      "metadata": {
        "id": "p6JOEeeK4PWY"
      },
      "outputs": [],
      "source": [
        "model.save('money.h5')\n",
        "model_pre=load_model('money.h5')"
      ]
    },
    {
      "cell_type": "code",
      "execution_count": null,
      "metadata": {
        "colab": {
          "base_uri": "https://localhost:8080/",
          "height": 234
        },
        "id": "vvNQCWRiv1AI",
        "outputId": "25fc677c-b1fd-477a-e666-6b6893e8f220"
      },
      "outputs": [
        {
          "output_type": "execute_result",
          "data": {
            "text/plain": [
              "(1, 32, 64, 3)"
            ]
          },
          "metadata": {},
          "execution_count": 23
        },
        {
          "output_type": "display_data",
          "data": {
            "text/plain": [
              "<Figure size 432x288 with 1 Axes>"
            ],
            "image/png": "[encoded data removed]"
          },
          "metadata": {
            "needs_background": "light"
          }
        }
      ],
      "source": [
        "img=load_img('/content/drive/MyDrive/Colab_Notebooks/Data_tienVN/50000/50000_3.jpg',target_size=(32,64))\n",
        "plt.imshow(img)\n",
        "img=img_to_array(img)\n",
        "img=img.reshape(1,32,64,3)\n",
        "img=img.astype('float32')\n",
        "img=img/255\n",
        "img.shape"
      ]
    },
    {
      "cell_type": "code",
      "execution_count": null,
      "metadata": {
        "colab": {
          "base_uri": "https://localhost:8080/"
        },
        "id": "7h_aRztmzUFw",
        "outputId": "c024359f-d8bd-4645-b1f1-5511d1574ded"
      },
      "outputs": [
        {
          "output_type": "execute_result",
          "data": {
            "text/plain": [
              "array([6])"
            ]
          },
          "metadata": {},
          "execution_count": 24
        }
      ],
      "source": [
        "np.argmax(model_pre.predict(img),axis=1)"
      ]
    },
    {
      "cell_type": "code",
      "execution_count": null,
      "metadata": {
        "id": "j6zB82WKzb2L"
      },
      "outputs": [],
      "source": [
        ""
      ]
    }
  ],
  "metadata": {
    "colab": {
      "collapsed_sections": [],
      "name": "CNN_Money.ipynb",
      "provenance": [],
      "include_colab_link": true
    },
    "kernelspec": {
      "display_name": "Python 3",
      "name": "python3"
    },
    "language_info": {
      "name": "python"
    }
  },
  "nbformat": 4,
  "nbformat_minor": 0
}