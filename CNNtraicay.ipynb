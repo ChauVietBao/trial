{
  "nbformat": 4,
  "nbformat_minor": 0,
  "metadata": {
    "colab": {
      "name": "CNNtraicay.ipynb",
      "provenance": [],
      "collapsed_sections": [],
      "authorship_tag": "ABX9TyP1Nl0ahVGGFXfGJdXyz3Z3",
      "include_colab_link": true
    },
    "kernelspec": {
      "name": "python3",
      "display_name": "Python 3"
    },
    "language_info": {
      "name": "python"
    }
  },
  "cells": [
    {
      "cell_type": "markdown",
      "metadata": {
        "id": "view-in-github",
        "colab_type": "text"
      },
      "source": [
        "<a href=\"https://colab.research.google.com/github/ChauVietBao/trial/blob/main/CNNtraicay.ipynb\" target=\"_parent\"><img src=\"https://colab.research.google.com/assets/colab-badge.svg\" alt=\"Open In Colab\"/></a>"
      ]
    },
    {
      "cell_type": "code",
      "execution_count": null,
      "metadata": {
        "id": "oVXM9y3F-Hxq"
      },
      "outputs": [],
      "source": [
        "from tensorflow.keras.optimizers import SGD\n",
        "from tensorflow.keras.utils import to_categorical\n",
        "from keras.preprocessing.image import load_img,img_to_array\n",
        "import matplotlib.pyplot as plt\n",
        "import numpy as np\n",
        "import os\n",
        "from keras.layers.convolutional import Conv2D,MaxPooling2D\n",
        "from keras.models import Sequential,load_model\n",
        "from keras.layers import Dense, Dropout, Flatten"
      ]
    },
    {
      "cell_type": "code",
      "source": [
        "from google.colab import drive\n",
        "drive.mount('/content/drive')"
      ],
      "metadata": {
        "colab": {
          "base_uri": "https://localhost:8080/"
        },
        "id": "s2JPaGJVO8mz",
        "outputId": "1d077e70-0254-414f-c092-e23c3e668cee"
      },
      "execution_count": null,
      "outputs": [
        {
          "output_type": "stream",
          "name": "stdout",
          "text": [
            "Drive already mounted at /content/drive; to attempt to forcibly remount, call drive.mount(\"/content/drive\", force_remount=True).\n"
          ]
        }
      ]
    },
    {
      "cell_type": "code",
      "source": [
        "dir_path = '/content/drive/MyDrive/Colab_Notebooks/Data_traicay'\n",
        "path_img = []\n",
        "labels = ['chuoi','duahau','le','man','sapoche','saurieng','tao','thanhlong','thom','xoai']\n",
        "x_train = []\n",
        "y_train = []"
      ],
      "metadata": {
        "id": "GPKmA45QPGoD"
      },
      "execution_count": null,
      "outputs": []
    },
    {
      "cell_type": "code",
      "source": [
        "for i in labels:\n",
        "  path_class = os.path.join(dir_path,i)\n",
        "  index_label = labels.index(i)\n",
        "  for j in os.listdir(path_class):\n",
        "    path_img = os.path.join(path_class,j)\n",
        "    img = load_img(path_img,target_size=(32,64))\n",
        "    img = img_to_array(img)\n",
        "    img = img.astype('float32')\n",
        "    img = img/255\n",
        "    x_train.append(img)\n",
        "    y_train.append(index_label)"
      ],
      "metadata": {
        "id": "H68xMy83PjJC"
      },
      "execution_count": null,
      "outputs": []
    },
    {
      "cell_type": "code",
      "source": [
        "x_train = np.array(x_train)\n",
        "y_train = np.array(y_train)\n",
        "y_train = to_categorical(y_train)"
      ],
      "metadata": {
        "id": "j_rjjqioPmzA"
      },
      "execution_count": null,
      "outputs": []
    },
    {
      "cell_type": "code",
      "source": [
        "# Initialize the CNN\n",
        "model = Sequential()\n",
        "# Convolution\n",
        "model.add(Conv2D(32,(3,3),activation='relu',kernel_initializer='he_uniform',padding='same',input_shape=(32,64,3)))\n",
        "# A second convolution layer\n",
        "model.add(Conv2D(32,(3,3),activation='relu',kernel_initializer='he_uniform',padding='same'))\n",
        "# Pooling\n",
        "model.add(MaxPooling2D((2,2)))\n",
        "# Flattening\n",
        "model.add(Flatten())\n",
        "# Full connection\n",
        "model.add(Flatten())\n",
        "model.add(Dense(1024,activation = 'relu',kernel_initializer='he_uniform'))\n",
        "model.add(Dense(256,activation = 'relu',kernel_initializer='he_uniform'))\n",
        "model.add(Dense(10,activation = 'softmax'))\n"
      ],
      "metadata": {
        "id": "9qtKVgdrQCJK"
      },
      "execution_count": null,
      "outputs": []
    },
    {
      "cell_type": "code",
      "source": [
        "opt = SGD(learning_rate=0.01,momentum=0.9)\n",
        "model.compile(opt,loss='categorical_crossentropy',metrics=['accuracy'])\n",
        "history = model.fit(x_train,y_train,epochs=15,batch_size=128,verbose=1)"
      ],
      "metadata": {
        "colab": {
          "base_uri": "https://localhost:8080/"
        },
        "id": "k-axNkGMQE1g",
        "outputId": "5032eddf-412f-4a99-e2bf-60368883a654"
      },
      "execution_count": null,
      "outputs": [
        {
          "output_type": "stream",
          "name": "stdout",
          "text": [
            "Epoch 1/15\n",
            "1/1 [==============================] - 1s 1s/step - loss: 2.6973 - accuracy: 0.0962\n",
            "Epoch 2/15\n",
            "1/1 [==============================] - 0s 449ms/step - loss: 2.6331 - accuracy: 0.1923\n",
            "Epoch 3/15\n",
            "1/1 [==============================] - 1s 503ms/step - loss: 2.4296 - accuracy: 0.1154\n",
            "Epoch 4/15\n",
            "1/1 [==============================] - 1s 509ms/step - loss: 2.1147 - accuracy: 0.2308\n",
            "Epoch 5/15\n",
            "1/1 [==============================] - 1s 507ms/step - loss: 1.9540 - accuracy: 0.4038\n",
            "Epoch 6/15\n",
            "1/1 [==============================] - 0s 477ms/step - loss: 1.8121 - accuracy: 0.7115\n",
            "Epoch 7/15\n",
            "1/1 [==============================] - 0s 458ms/step - loss: 1.6455 - accuracy: 0.9231\n",
            "Epoch 8/15\n",
            "1/1 [==============================] - 1s 515ms/step - loss: 1.3915 - accuracy: 0.9231\n",
            "Epoch 9/15\n",
            "1/1 [==============================] - 0s 480ms/step - loss: 1.0511 - accuracy: 0.9423\n",
            "Epoch 10/15\n",
            "1/1 [==============================] - 1s 509ms/step - loss: 0.7169 - accuracy: 0.9231\n",
            "Epoch 11/15\n",
            "1/1 [==============================] - 0s 481ms/step - loss: 0.5153 - accuracy: 0.9231\n",
            "Epoch 12/15\n",
            "1/1 [==============================] - 1s 510ms/step - loss: 0.3177 - accuracy: 0.9423\n",
            "Epoch 13/15\n",
            "1/1 [==============================] - 0s 497ms/step - loss: 0.3335 - accuracy: 0.9038\n",
            "Epoch 14/15\n",
            "1/1 [==============================] - 0s 497ms/step - loss: 0.5986 - accuracy: 0.8846\n",
            "Epoch 15/15\n",
            "1/1 [==============================] - 0s 480ms/step - loss: 0.7476 - accuracy: 0.8077\n"
          ]
        }
      ]
    },
    {
      "cell_type": "code",
      "source": [
        "model.save('fruit.h5')\n",
        "model_pre=load_model('fruit.h5')"
      ],
      "metadata": {
        "id": "h8-mWla8QITB"
      },
      "execution_count": null,
      "outputs": []
    },
    {
      "cell_type": "code",
      "source": [
        "img=load_img('/content/drive/MyDrive/Colab_Notebooks/Data_traicay/chuoi/5.9-1.jpg',target_size=(32,64))\n",
        "plt.imshow(img)\n",
        "img=img_to_array(img)\n",
        "img=img.reshape(1,32,64,3)\n",
        "img=img.astype('float32')\n",
        "img=img/255\n",
        "img.shape"
      ],
      "metadata": {
        "colab": {
          "base_uri": "https://localhost:8080/",
          "height": 234
        },
        "id": "vjcwbaEcRkBR",
        "outputId": "43b0eda7-6467-419e-eb36-9b11a622b624"
      },
      "execution_count": null,
      "outputs": [
        {
          "output_type": "execute_result",
          "data": {
            "text/plain": [
              "(1, 32, 64, 3)"
            ]
          },
          "metadata": {},
          "execution_count": 14
        },
        {
          "output_type": "display_data",
          "data": {
            "text/plain": [
              "<Figure size 432x288 with 1 Axes>"
            ],
            "image/png": "[encoded data removed]"
          },
          "metadata": {
            "needs_background": "light"
          }
        }
      ]
    },
    {
      "cell_type": "code",
      "source": [
        "np.argmax(model_pre.predict(img),axis=1)"
      ],
      "metadata": {
        "colab": {
          "base_uri": "https://localhost:8080/"
        },
        "id": "OMH3O6oQSEBx",
        "outputId": "a4022390-c766-404a-8fdb-fd38656522dc"
      },
      "execution_count": null,
      "outputs": [
        {
          "output_type": "execute_result",
          "data": {
            "text/plain": [
              "array([0])"
            ]
          },
          "metadata": {},
          "execution_count": 15
        }
      ]
    },
    {
      "cell_type": "code",
      "source": [
        ""
      ],
      "metadata": {
        "id": "vDyfTTz2SKa_"
      },
      "execution_count": null,
      "outputs": []
    }
  ]
}